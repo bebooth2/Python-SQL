{
 "cells": [
  {
   "cell_type": "markdown",
   "metadata": {},
   "source": [
    "# User Guide for CRUD SQLite operations in Python"
   ]
  },
  {
   "cell_type": "markdown",
   "metadata": {},
   "source": [
    "## Connection to database"
   ]
  },
  {
   "cell_type": "code",
   "execution_count": 6,
   "metadata": {},
   "outputs": [],
   "source": [
    "# without context manager\n",
    "import sqlite3\n",
    "\n",
    "#create the file path\n",
    "file = \"my_data.db\" # \"http://somewhere.com/database\"\n",
    "\n",
    "#connect to this path\n",
    "conn = sqlite3.connect(file)\n",
    "\n",
    "#create a cursor object to execute all operations\n",
    "c = conn.cursor()\n",
    "\n",
    "#After operation have been done connect object must commit the changes\n",
    "#conn.commit()\n",
    "\n",
    "#At the end always close your file\n",
    "#conn.close()"
   ]
  },
  {
   "cell_type": "code",
   "execution_count": 105,
   "metadata": {},
   "outputs": [
    {
     "name": "stdout",
     "output_type": "stream",
     "text": [
      "Something went wrong:  UNIQUE constraint failed: employee.email\n",
      "[(1, 'Briann', 'briann@mycompany.com')]\n"
     ]
    }
   ],
   "source": [
    "#with context manager\n",
    "from sqlite3 import Error\n",
    "con = sqlite3.connect(\":memory:\")\n",
    "con.execute('CREATE TABLE employee (id integer primary key, firstname varchar(20), email varchar(30) unique)')\n",
    "\n",
    "# Successful con.commity is automatically called\n",
    "with con:\n",
    "    con.execute(\"INSERT INTO employee(firstname, email) VALUES (?,?)\", ('Briann','briann@mycompany.com'))\n",
    "                \n",
    "    try:\n",
    "   \n",
    "        con.execute(\"INSERT INTO employee(firstname, email) VALUES (?,?)\", ('Briann','briann@mycompany.com'))\n",
    "       \n",
    "    except Error as err:\n",
    "        print(\"Something went wrong:  {}\".format(err))\n",
    "   \n",
    "\n",
    "    c = con.cursor()\n",
    "    c.execute(\"SELECT * FROM employee\")\n",
    "    print(c.fetchall())\n",
    "\n",
    "\n",
    "\n",
    "    \n",
    "               \n",
    "                \n",
    "                \n",
    "                \n",
    "                \n",
    "    "
   ]
  },
  {
   "cell_type": "markdown",
   "metadata": {},
   "source": [
    "## CRUD Create Read Update Delete\n"
   ]
  },
  {
   "cell_type": "markdown",
   "metadata": {},
   "source": [
    "## Create Tables"
   ]
  },
  {
   "cell_type": "code",
   "execution_count": 62,
   "metadata": {},
   "outputs": [],
   "source": [
    "#First Create table\n",
    "with conn:\n",
    "    c = conn.cursor()\n",
    "    c.execute('''CREATE TABLE stocks \n",
    "                    (date text, symbol text, qty real, price real)''')\n",
    "\n",
    "#Insert values\n",
    "c.execute(\"INSERT INTO stocks VALUES ('2019-01-05', 'APPL', 50, 300.35)\")\n",
    "\n",
    "#commit the changes\n",
    "conn.commit()\n",
    "\n",
    "#close the connection\n",
    "conn.close()\n"
   ]
  },
  {
   "cell_type": "markdown",
   "metadata": {},
   "source": [
    "### SQL INSERT INTO Statement"
   ]
  },
  {
   "cell_type": "code",
   "execution_count": 64,
   "metadata": {},
   "outputs": [
    {
     "name": "stdout",
     "output_type": "stream",
     "text": [
      "Inserted into data base\n"
     ]
    }
   ],
   "source": [
    "try:\n",
    "    conn = sqlite3.connect(\"yahoostocks.db\")\n",
    "    with conn:\n",
    "        c = conn.cursor()\n",
    "        query = 'INSERT INTO stocks_prices VALUES(\"new_stock\", 2019.14, \"2019-04-01 13:05:59\")'\n",
    "        c.execute(query)\n",
    "        print(\"Inserted into data base\")\n",
    "except Error as err:\n",
    "    print(\"Error: {}\".format(err))\n"
   ]
  },
  {
   "cell_type": "code",
   "execution_count": 65,
   "metadata": {},
   "outputs": [
    {
     "name": "stdout",
     "output_type": "stream",
     "text": [
      "Inserted into data base\n"
     ]
    }
   ],
   "source": [
    "try:\n",
    "    conn = sqlite3.connect(\"yahoostocks.db\")\n",
    "    with conn:\n",
    "        c = conn.cursor()\n",
    "        query = \"INSERT INTO stocks_prices (stock_name, price) VALUES('Appl', 444.44 )\"\n",
    "        c.execute(query)\n",
    "        print(\"Inserted into data base\")\n",
    "except Error as err:\n",
    "    print(\"Error: {}\".format(err))\n",
    "\n"
   ]
  },
  {
   "cell_type": "markdown",
   "metadata": {},
   "source": [
    "## Read or Querying the Tables"
   ]
  },
  {
   "cell_type": "code",
   "execution_count": 66,
   "metadata": {},
   "outputs": [],
   "source": [
    "# CONNECT TO YAHOOSTOCK DATABASE TABLE stocks_prices\n",
    "# HAS COLUMNS stock_name, price, time1\n",
    "try:\n",
    "    con = sqlite3.connect(\"yahoostocks.db\")\n",
    "except Error as err:\n",
    "    print(\"Failed to connect to database: {}\".format(err))"
   ]
  },
  {
   "cell_type": "code",
   "execution_count": 67,
   "metadata": {},
   "outputs": [
    {
     "name": "stdout",
     "output_type": "stream",
     "text": [
      "('Dow', '26,183.44', '2019-04-01 12:44:50')\n",
      "('Dow', '26,187.21', '2019-04-01 12:45:12')\n",
      "('Dow', '26,187.21', '2019-04-01 12:45:35')\n",
      "('Dow', '26,188.17', '2019-04-01 12:45:57')\n",
      "('Dow', '26,188.74', '2019-04-01 12:46:18')\n",
      "('Dow', '26,200.60', '2019-04-01 13:04:31')\n",
      "('Dow', '26,200.98', '2019-04-01 13:04:52')\n",
      "('Dow', '26,198.66', '2019-04-01 13:05:14')\n",
      "('Dow', '26,191.43', '2019-04-01 13:05:36')\n",
      "('Dow', '26,191.81', '2019-04-01 13:05:59')\n"
     ]
    }
   ],
   "source": [
    "stock = \"Dow\"\n",
    "#for secure format for querying to avoid SQL injection\n",
    "try:\n",
    "    with con:\n",
    "        c = con.cursor()\n",
    "        c.execute('SELECT * FROM stocks_prices WHERE stock_name = ?',(stock,) )\n",
    "        print(c.fetchone())\n",
    "        for row in c:\n",
    "            print(row)\n",
    "except Error as err:\n",
    "    print(\"Failed to get query: {}\".format(err))\n",
    "    "
   ]
  },
  {
   "cell_type": "markdown",
   "metadata": {},
   "source": [
    "### SELECT DISTINCT"
   ]
  },
  {
   "cell_type": "markdown",
   "metadata": {},
   "source": [
    "#### Selects on the distinct values form the \"stock_name\" column in the \"stocks_prices\" table\n"
   ]
  },
  {
   "cell_type": "code",
   "execution_count": 92,
   "metadata": {},
   "outputs": [
    {
     "name": "stdout",
     "output_type": "stream",
     "text": [
      "('Nasdaq',)\n",
      "('Crude',)\n",
      "('Dow',)\n",
      "('Gold',)\n",
      "('S&P',)\n",
      "('Appl',)\n",
      "('new_stock',)\n"
     ]
    }
   ],
   "source": [
    "# for simplicity just the statement \n",
    "conn = sqlite3.connect(\"yahoostocks.db\")\n",
    "c = conn.cursor()\n",
    "\n",
    "c.execute('''SELECT DISTINCT stock_name \n",
    "            FROM stocks_prices''')\n",
    "for row in c:\n",
    "    print(row)"
   ]
  },
  {
   "cell_type": "markdown",
   "metadata": {},
   "source": [
    "### SQL And & OR Operators"
   ]
  },
  {
   "cell_type": "code",
   "execution_count": 69,
   "metadata": {},
   "outputs": [
    {
     "name": "stdout",
     "output_type": "stream",
     "text": [
      "('Dow', '26,183.44', '2019-04-01 12:44:50')\n"
     ]
    }
   ],
   "source": [
    "stock = \"Dow\"\n",
    "date = \"2019-04-01 12:44:50\"\n",
    "\n",
    "query = \"SELECT * FROM stocks_prices WHERE stock_name = ?  AND time1 =?\"\n",
    "c.execute(query, (stock, date))\n",
    "print(c.fetchone())"
   ]
  },
  {
   "cell_type": "code",
   "execution_count": 70,
   "metadata": {},
   "outputs": [
    {
     "name": "stdout",
     "output_type": "stream",
     "text": [
      "[('Dow', '26,183.44', '2019-04-01 12:44:50'), ('Dow', '26,187.21', '2019-04-01 12:45:12')]\n"
     ]
    }
   ],
   "source": [
    "stock = \"Dow\"\n",
    "date1 = \"2019-04-01 12:44:50\"\n",
    "date2 = \"2019-04-01 12:45:12\"\n",
    "\n",
    "\n",
    "query = \"SELECT * FROM stocks_prices WHERE stock_name = ?  AND (time1 =? OR time1 =?)\"\n",
    "c.execute(query,(stock, date1, date2))\n",
    "print(c.fetchmany(2))"
   ]
  },
  {
   "cell_type": "markdown",
   "metadata": {},
   "source": [
    "### SQL ORDER BY keyword"
   ]
  },
  {
   "cell_type": "code",
   "execution_count": 73,
   "metadata": {},
   "outputs": [
    {
     "name": "stdout",
     "output_type": "stream",
     "text": [
      "[('Appl', 555.55, None), ('Appl', 555.55, None), ('S&P', '2,859.23', '2019-04-01 12:44:49'), ('Nasdaq', '7,804.60', '2019-04-01 12:44:50'), ('Dow', '26,183.44', '2019-04-01 12:44:50')]\n"
     ]
    }
   ],
   "source": [
    "query = \"SELECT * FROM stocks_prices ORDER BY time1, stock_name DESC\"\n",
    "c.execute(query)\n",
    "print(c.fetchmany(5))"
   ]
  },
  {
   "cell_type": "markdown",
   "metadata": {},
   "source": [
    "### SQL LIKE Operater"
   ]
  },
  {
   "cell_type": "code",
   "execution_count": 77,
   "metadata": {},
   "outputs": [
    {
     "name": "stdout",
     "output_type": "stream",
     "text": [
      "[('Dow', '26,183.44', '2019-04-01 12:44:50'), ('Gold', '1,294.70', '2019-04-01 12:44:51'), ('Gold', '1,294.90', '2019-04-01 12:45:12'), ('Dow', '26,187.21', '2019-04-01 12:45:12'), ('Dow', '26,187.21', '2019-04-01 12:45:35')]\n"
     ]
    }
   ],
   "source": [
    "# The lIKE operater will find pattern like a regex \n",
    "# the % sign is used to define wildcards(missing letter) both before and after the pattern\n",
    "\n",
    "query = \"SELECT * FROM stocks_prices WHERE stock_name LIKE '%o%'\"\n",
    "c.execute(query)\n",
    "print(c.fetchmany(5))"
   ]
  },
  {
   "cell_type": "code",
   "execution_count": 78,
   "metadata": {},
   "outputs": [
    {
     "name": "stdout",
     "output_type": "stream",
     "text": [
      "[('Nasdaq', '7,804.60', '2019-04-01 12:44:50'), ('Crude', 61.21, '2019-04-01 12:44:50'), ('S&P', '2,859.23', '2019-04-01 12:44:49'), ('Crude', 61.2, '2019-04-01 12:45:12'), ('Nasdaq', '7,804.60', '2019-04-01 12:45:12')]\n"
     ]
    }
   ],
   "source": [
    "\n",
    "query = \"SELECT * FROM stocks_prices WHERE stock_name NOT LIKE '%o%'\"\n",
    "c.execute(query)\n",
    "print(c.fetchmany(5))"
   ]
  },
  {
   "cell_type": "markdown",
   "metadata": {},
   "source": [
    "### SQL Wildcards"
   ]
  },
  {
   "cell_type": "markdown",
   "metadata": {},
   "source": [
    "\n",
    "<table>\n",
    "    <tr>\n",
    "        <th>Wildcard</th>\n",
    "        <th>Discription</th>\n",
    "    </tr>\n",
    "    <tr>\n",
    "        <td>%</td>\n",
    "        <td>A substitute for zero or more characters</td>\n",
    "    </tr>\n",
    "    <tr>\n",
    "        <td>_</td>\n",
    "        <td>A substitute for a single character</td>\n",
    "    </tr>\n",
    "    <tr>\n",
    "        <td>[charlist]</td>\n",
    "        <td>Sets and ranges of characters to match</td>\n",
    "    </tr>\n",
    "    <tr>\n",
    "        <td>[^charlist]</td>\n",
    "        <td>Matches only a character NOT specified within the brackets</td>\n",
    "    </tr>\n",
    "</table>\n",
    "        "
   ]
  },
  {
   "cell_type": "markdown",
   "metadata": {},
   "source": [
    "### The IN Operator"
   ]
  },
  {
   "cell_type": "code",
   "execution_count": 93,
   "metadata": {},
   "outputs": [
    {
     "name": "stdout",
     "output_type": "stream",
     "text": [
      "[('Dow', '26,183.44'), ('Dow', '26,187.21'), ('Dow', '26,187.21'), ('Dow', '26,188.17'), ('Dow', '26,188.74')]\n"
     ]
    }
   ],
   "source": [
    "#shorthand for OR\n",
    "query= \"SELECT  stock_name, price FROM stocks_prices WHERE stock_name IN ('Appl', 'Dow')\"\n",
    "c.execute(query)\n",
    "print(c.fetchmany(5))"
   ]
  },
  {
   "cell_type": "markdown",
   "metadata": {},
   "source": [
    "### SQL BETWEEN Operator\n",
    "#### Be careful with BETWEEN operator can produce different results in different databases"
   ]
  },
  {
   "cell_type": "code",
   "execution_count": 94,
   "metadata": {},
   "outputs": [
    {
     "name": "stdout",
     "output_type": "stream",
     "text": [
      "[('Nasdaq', '7,804.60', '2019-04-01 12:44:50'), ('Crude', 61.21, '2019-04-01 12:44:50'), ('Dow', '26,183.44', '2019-04-01 12:44:50'), ('Gold', '1,294.70', '2019-04-01 12:44:51'), ('S&P', '2,859.23', '2019-04-01 12:44:49'), ('Gold', '1,294.90', '2019-04-01 12:45:12'), ('Crude', 61.2, '2019-04-01 12:45:12'), ('Nasdaq', '7,804.60', '2019-04-01 12:45:12'), ('Dow', '26,187.21', '2019-04-01 12:45:12')]\n"
     ]
    }
   ],
   "source": [
    "# the BETWEEN operator selects values with in a range. The values can be numbers, text, or dates\n",
    "query = \"SELECT * FROM stocks_prices WHERE time1 BETWEEN '2019-04-01 12:43:12' AND '2019-04-01 12:45:12'\"\n",
    "c.execute(query)\n",
    "print(c.fetchall())"
   ]
  },
  {
   "cell_type": "markdown",
   "metadata": {},
   "source": [
    "#### NOT BETWEEN"
   ]
  },
  {
   "cell_type": "code",
   "execution_count": 100,
   "metadata": {},
   "outputs": [
    {
     "name": "stdout",
     "output_type": "stream",
     "text": [
      "[('Nasdaq',), ('S&P',), ('Nasdaq',), ('S&P',), ('S&P',)]\n"
     ]
    }
   ],
   "source": [
    "query = \"SELECT stock_name FROM stocks_prices WHERE stock_name NOT BETWEEN 'A' AND 'H'\"\n",
    "c.execute(query)\n",
    "print(c.fetchmany(5))"
   ]
  },
  {
   "cell_type": "markdown",
   "metadata": {},
   "source": [
    "#### BETWEEN and IN"
   ]
  },
  {
   "cell_type": "code",
   "execution_count": 102,
   "metadata": {},
   "outputs": [
    {
     "name": "stdout",
     "output_type": "stream",
     "text": [
      "[('Crude', 61.21, '2019-04-01 12:44:50'), ('Crude', 61.2, '2019-04-01 12:45:12'), ('Crude', 61.18, '2019-04-01 12:45:34'), ('Crude', 61.18, '2019-04-01 12:45:57'), ('Crude', 61.18, '2019-04-01 12:46:19')]\n"
     ]
    }
   ],
   "source": [
    "query = 'SELECT * FROM stocks_prices WHERE (price BETWEEN 50 AND 5000) AND NOT stock_name IN (\"Gold\", \"Appl\")'\n",
    "c.execute(query)\n",
    "print(c.fetchmany(5))"
   ]
  },
  {
   "cell_type": "markdown",
   "metadata": {},
   "source": [
    "### Alias"
   ]
  },
  {
   "cell_type": "raw",
   "metadata": {},
   "source": [
    "SELECT column_name AS alias_name\n",
    "FROM table_name;\n",
    "\n",
    "\n",
    "SELECT column_name(s)\n",
    "FROM table_name AS alias_name(s);"
   ]
  },
  {
   "cell_type": "markdown",
   "metadata": {},
   "source": [
    "## SQL UPDATE Statement\n",
    "### WARNING OMITTING THE WHERE CLAUSE WILL UPDATE ALL RECORDS"
   ]
  },
  {
   "cell_type": "code",
   "execution_count": 74,
   "metadata": {},
   "outputs": [
    {
     "name": "stdout",
     "output_type": "stream",
     "text": [
      "[('Appl', 555.55, None)]\n"
     ]
    }
   ],
   "source": [
    "update_stock = \"Appl\"\n",
    "update_price =555.55\n",
    "\n",
    "query = \"UPDATE stocks_prices SET price = ? WHERE stock_name = ?\"\n",
    "c.execute(query,(update_price, update_stock))\n",
    "c.execute(\"SELECT * FROM stocks_prices WHERE stock_name = ?\", (update_stock,))\n",
    "print(c.fetchmany())"
   ]
  },
  {
   "cell_type": "markdown",
   "metadata": {},
   "source": [
    "## DELETE Statement\n",
    "### WARNING OMITTING THE WHERE CLAUSE WILL DELETE ALL RECORDS"
   ]
  },
  {
   "cell_type": "code",
   "execution_count": 104,
   "metadata": {},
   "outputs": [
    {
     "name": "stdout",
     "output_type": "stream",
     "text": [
      "None\n"
     ]
    }
   ],
   "source": [
    "record = \"new_stock\"\n",
    "query = \"DELETE FROM stocks_prices WHERE stock_name = ?\"\n",
    "c.execute(query, (record,))\n",
    "c.execute(\"SELECT * FROM stocks_prices WHERE stock_name = ?\",(record,))\n",
    "print(c.fetchone())"
   ]
  },
  {
   "cell_type": "code",
   "execution_count": null,
   "metadata": {},
   "outputs": [],
   "source": []
  }
 ],
 "metadata": {
  "kernelspec": {
   "display_name": "Python 3",
   "language": "python",
   "name": "python3"
  },
  "language_info": {
   "codemirror_mode": {
    "name": "ipython",
    "version": 3
   },
   "file_extension": ".py",
   "mimetype": "text/x-python",
   "name": "python",
   "nbconvert_exporter": "python",
   "pygments_lexer": "ipython3",
   "version": "3.7.0"
  }
 },
 "nbformat": 4,
 "nbformat_minor": 2
}

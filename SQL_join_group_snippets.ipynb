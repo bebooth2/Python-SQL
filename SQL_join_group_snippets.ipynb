{
 "cells": [
  {
   "cell_type": "markdown",
   "metadata": {},
   "source": [
    "# Operation Between Tables(Joins, Inserts)"
   ]
  },
  {
   "cell_type": "code",
   "execution_count": 1,
   "metadata": {},
   "outputs": [],
   "source": [
    "import sqlite3\n",
    "import random\n",
    "#connecting to a database with \n",
    "conn = sqlite3.connect(\"HR.db\")\n",
    "c = conn.cursor()"
   ]
  },
  {
   "cell_type": "code",
   "execution_count": 3,
   "metadata": {},
   "outputs": [],
   "source": []
  },
  {
   "cell_type": "markdown",
   "metadata": {},
   "source": [
    "### Note Working with pandas is MUCH Nicer :)"
   ]
  },
  {
   "cell_type": "code",
   "execution_count": 19,
   "metadata": {},
   "outputs": [
    {
     "data": {
      "text/html": [
       "<div>\n",
       "<style scoped>\n",
       "    .dataframe tbody tr th:only-of-type {\n",
       "        vertical-align: middle;\n",
       "    }\n",
       "\n",
       "    .dataframe tbody tr th {\n",
       "        vertical-align: top;\n",
       "    }\n",
       "\n",
       "    .dataframe thead th {\n",
       "        text-align: right;\n",
       "    }\n",
       "</style>\n",
       "<table border=\"1\" class=\"dataframe\">\n",
       "  <thead>\n",
       "    <tr style=\"text-align: right;\">\n",
       "      <th></th>\n",
       "      <th>employee_id</th>\n",
       "      <th>first_name</th>\n",
       "      <th>last_name</th>\n",
       "      <th>email</th>\n",
       "      <th>phone_number</th>\n",
       "      <th>hire_date</th>\n",
       "      <th>job_id</th>\n",
       "      <th>salary</th>\n",
       "      <th>manager_id</th>\n",
       "      <th>department_id</th>\n",
       "    </tr>\n",
       "  </thead>\n",
       "  <tbody>\n",
       "    <tr>\n",
       "      <th>0</th>\n",
       "      <td>100</td>\n",
       "      <td>Steven</td>\n",
       "      <td>King</td>\n",
       "      <td>steven.king@sqltutorial.org</td>\n",
       "      <td>515.123.4567</td>\n",
       "      <td>1987-06-17</td>\n",
       "      <td>4</td>\n",
       "      <td>24000.0</td>\n",
       "      <td>NaN</td>\n",
       "      <td>9</td>\n",
       "    </tr>\n",
       "    <tr>\n",
       "      <th>1</th>\n",
       "      <td>101</td>\n",
       "      <td>Neena</td>\n",
       "      <td>Kochhar</td>\n",
       "      <td>neena.kochhar@sqltutorial.org</td>\n",
       "      <td>515.123.4568</td>\n",
       "      <td>1989-09-21</td>\n",
       "      <td>5</td>\n",
       "      <td>17000.0</td>\n",
       "      <td>100.0</td>\n",
       "      <td>9</td>\n",
       "    </tr>\n",
       "    <tr>\n",
       "      <th>2</th>\n",
       "      <td>102</td>\n",
       "      <td>Lex</td>\n",
       "      <td>De Haan</td>\n",
       "      <td>lex.de haan@sqltutorial.org</td>\n",
       "      <td>515.123.4569</td>\n",
       "      <td>1993-01-13</td>\n",
       "      <td>5</td>\n",
       "      <td>17000.0</td>\n",
       "      <td>100.0</td>\n",
       "      <td>9</td>\n",
       "    </tr>\n",
       "    <tr>\n",
       "      <th>3</th>\n",
       "      <td>103</td>\n",
       "      <td>Alexander</td>\n",
       "      <td>Hunold</td>\n",
       "      <td>alexander.hunold@sqltutorial.org</td>\n",
       "      <td>590.423.4567</td>\n",
       "      <td>1990-01-03</td>\n",
       "      <td>9</td>\n",
       "      <td>9000.0</td>\n",
       "      <td>102.0</td>\n",
       "      <td>6</td>\n",
       "    </tr>\n",
       "    <tr>\n",
       "      <th>4</th>\n",
       "      <td>104</td>\n",
       "      <td>Bruce</td>\n",
       "      <td>Ernst</td>\n",
       "      <td>bruce.ernst@sqltutorial.org</td>\n",
       "      <td>590.423.4568</td>\n",
       "      <td>1991-05-21</td>\n",
       "      <td>9</td>\n",
       "      <td>6000.0</td>\n",
       "      <td>103.0</td>\n",
       "      <td>6</td>\n",
       "    </tr>\n",
       "  </tbody>\n",
       "</table>\n",
       "</div>"
      ],
      "text/plain": [
       "   employee_id first_name last_name                             email  \\\n",
       "0          100     Steven      King       steven.king@sqltutorial.org   \n",
       "1          101      Neena   Kochhar     neena.kochhar@sqltutorial.org   \n",
       "2          102        Lex   De Haan       lex.de haan@sqltutorial.org   \n",
       "3          103  Alexander    Hunold  alexander.hunold@sqltutorial.org   \n",
       "4          104      Bruce     Ernst       bruce.ernst@sqltutorial.org   \n",
       "\n",
       "   phone_number   hire_date  job_id   salary  manager_id  department_id  \n",
       "0  515.123.4567  1987-06-17       4  24000.0         NaN              9  \n",
       "1  515.123.4568  1989-09-21       5  17000.0       100.0              9  \n",
       "2  515.123.4569  1993-01-13       5  17000.0       100.0              9  \n",
       "3  590.423.4567  1990-01-03       9   9000.0       102.0              6  \n",
       "4  590.423.4568  1991-05-21       9   6000.0       103.0              6  "
      ]
     },
     "execution_count": 19,
     "metadata": {},
     "output_type": "execute_result"
    }
   ],
   "source": [
    "import pandas as pd\n",
    "df = pd.read_sql(\"SELECT * FROM employees\", conn)\n",
    "df.head()\n"
   ]
  },
  {
   "cell_type": "code",
   "execution_count": 7,
   "metadata": {},
   "outputs": [
    {
     "name": "stdout",
     "output_type": "stream",
     "text": [
      "25\n"
     ]
    }
   ],
   "source": [
    "query = \"SELECT * FROM countries\"\n",
    "print(len(c.execute(query).fetchall()))\n"
   ]
  },
  {
   "cell_type": "markdown",
   "metadata": {},
   "source": [
    "##  SQL JOINS"
   ]
  },
  {
   "cell_type": "markdown",
   "metadata": {},
   "source": [
    "An SQL JOIN clause is used to combine rows from two or more tables, based on a common field between them."
   ]
  },
  {
   "cell_type": "markdown",
   "metadata": {},
   "source": [
    "#### Getting the tables and table columns from the database"
   ]
  },
  {
   "cell_type": "code",
   "execution_count": 11,
   "metadata": {},
   "outputs": [
    {
     "name": "stdout",
     "output_type": "stream",
     "text": [
      "[('regions',), ('sqlite_sequence',), ('countries',), ('locations',), ('departments',), ('jobs',), ('employees',), ('dependents',)]\n"
     ]
    }
   ],
   "source": [
    "query =(\"SELECT name FROM sqlite_master WHERE type = 'table'\")\n",
    "print(c.execute(query).fetchall())"
   ]
  },
  {
   "cell_type": "code",
   "execution_count": 15,
   "metadata": {},
   "outputs": [],
   "source": [
    "def find_col(table, cursor):\n",
    "    cursor.execute(\"SELECT * FROM {}\".format(table))\n",
    "    return [member[0] for member in cursor.description]\n",
    "    "
   ]
  },
  {
   "cell_type": "code",
   "execution_count": 16,
   "metadata": {},
   "outputs": [
    {
     "name": "stdout",
     "output_type": "stream",
     "text": [
      "['employee_id', 'first_name', 'last_name', 'email', 'phone_number', 'hire_date', 'job_id', 'salary', 'manager_id', 'department_id']\n"
     ]
    }
   ],
   "source": [
    "employee_cols = find_col(\"employees\", c)\n",
    "\n",
    "print(employee_cols)"
   ]
  },
  {
   "cell_type": "markdown",
   "metadata": {},
   "source": [
    "### INNER JOIN"
   ]
  },
  {
   "cell_type": "markdown",
   "metadata": {},
   "source": [
    "The relational algebra equivalent to a INNER JOIN is intersection. The inner join returns rows if there is, at least, one row in both tables that matches the join condition\n"
   ]
  },
  {
   "cell_type": "raw",
   "metadata": {},
   "source": [
    "SELECT column_name(s)\n",
    "FROM table1\n",
    "INNER JOIN table2\n",
    "ON table1.column_name=table2.column_name;\n",
    "\n",
    "SELECT\n",
    "  A.n\n",
    "FROM A\n",
    "INNER JOIN B ON B.n = A.n\n",
    "INNER JOIN C ON C.n = A.n; # Can be done on multiple tables"
   ]
  },
  {
   "cell_type": "markdown",
   "metadata": {},
   "source": [
    "In this query we want to combine the employees and the deparments table but we only want the employees in departments 1,2 or 3. We will use a WHERE clause and an IN statement"
   ]
  },
  {
   "cell_type": "code",
   "execution_count": 20,
   "metadata": {},
   "outputs": [
    {
     "name": "stdout",
     "output_type": "stream",
     "text": [
      "('Jennifer', 'Whalen', 1, 'Administration')\n",
      "('Michael', 'Hartstein', 2, 'Marketing')\n",
      "('Pat', 'Fay', 2, 'Marketing')\n",
      "('Den', 'Raphaely', 3, 'Purchasing')\n",
      "('Alexander', 'Khoo', 3, 'Purchasing')\n",
      "('Shelli', 'Baida', 3, 'Purchasing')\n",
      "('Sigal', 'Tobias', 3, 'Purchasing')\n",
      "('Guy', 'Himuro', 3, 'Purchasing')\n",
      "('Karen', 'Colmenares', 3, 'Purchasing')\n"
     ]
    }
   ],
   "source": [
    "query = \"\"\"SELECT first_name, last_name, employees.department_id, department_name \n",
    "        FROM employees INNER JOIN departments \n",
    "        ON departments.department_id = employees.department_id\n",
    "        WHERE employees.department_id IN (1,2,3)\"\"\"\n",
    "for row in (c.execute(query).fetchmany(10)):\n",
    "    print(row)\n"
   ]
  },
  {
   "cell_type": "markdown",
   "metadata": {},
   "source": [
    "### INNER JOIN on three or more tables"
   ]
  },
  {
   "cell_type": "markdown",
   "metadata": {},
   "source": [
    "Now we query the same output but include the jobs being preformed. This addition \n",
    "information is stored in the jobs table and is attainable with the job_id in the employee table"
   ]
  },
  {
   "cell_type": "code",
   "execution_count": 22,
   "metadata": {},
   "outputs": [
    {
     "name": "stdout",
     "output_type": "stream",
     "text": [
      "('Den', 'Raphaely', 'Purchasing Manager', 'Purchasing')\n",
      "('Alexander', 'Khoo', 'Purchasing Clerk', 'Purchasing')\n",
      "('Shelli', 'Baida', 'Purchasing Clerk', 'Purchasing')\n",
      "('Sigal', 'Tobias', 'Purchasing Clerk', 'Purchasing')\n",
      "('Guy', 'Himuro', 'Purchasing Clerk', 'Purchasing')\n",
      "('Karen', 'Colmenares', 'Purchasing Clerk', 'Purchasing')\n",
      "('Jennifer', 'Whalen', 'Administration Assistant', 'Administration')\n",
      "('Michael', 'Hartstein', 'Marketing Manager', 'Marketing')\n",
      "('Pat', 'Fay', 'Marketing Representative', 'Marketing')\n"
     ]
    }
   ],
   "source": [
    "query = \"\"\"SELECT first_name, last_name, job_title, department_name\n",
    "        FROM employees e\n",
    "        INNER JOIN departments d ON d.department_id = e.department_id\n",
    "        INNER JOIN jobs j ON j.job_id = e.job_id\n",
    "        WHERE e.department_id IN (1,2,3)\"\"\"\n",
    "for row in (c.execute(query).fetchmany(10)):\n",
    "    print(row)\n",
    "#sane output as above with job_title and in different order"
   ]
  },
  {
   "cell_type": "markdown",
   "metadata": {},
   "source": [
    "### LEFT JOIN"
   ]
  },
  {
   "cell_type": "markdown",
   "metadata": {},
   "source": [
    "The LEFT JOIN keyword returns all rows from the left table(table(1)) with the matching rows in the \n",
    "right table(table(2)). The result is NULL in the right side when there is no match "
   ]
  },
  {
   "cell_type": "raw",
   "metadata": {},
   "source": [
    "#SELECT column_name(s)\n",
    "#FROM table1\n",
    "#INNER JOIN table2\n",
    "#ON table1.column_name=table2.column_name;\n",
    "\n",
    "#or:\n",
    "\n",
    "#SELECT column_name(s)\n",
    "#FROM table1\n",
    "#JOIN table2\n",
    "#ON table1.column_name=table2.column_name;\n",
    "\n"
   ]
  },
  {
   "cell_type": "markdown",
   "metadata": {},
   "source": [
    "The LEFT JOIN clause appears after the FROM clause. The condition that follows\n",
    "the ON keyword is called the condition"
   ]
  },
  {
   "cell_type": "code",
   "execution_count": 25,
   "metadata": {},
   "outputs": [
    {
     "name": "stdout",
     "output_type": "stream",
     "text": [
      "('China', 'CN', None, None)\n",
      "('United Kingdom', 'UK', '8204 Arthur St', 'London')\n",
      "('United Kingdom', 'UK', 'Magdalen Centre, The Oxford Science Park', 'Oxford')\n",
      "('United States of America', 'US', '2014 Jabberwocky Rd', 'Southlake')\n",
      "('United States of America', 'US', '2011 Interiors Blvd', 'South San Francisco')\n",
      "('United States of America', 'US', '2004 Charade Rd', 'Seattle')\n"
     ]
    }
   ],
   "source": [
    "# the left side of this is mandated to be US, UK, CN. There is a one to many \n",
    "# relationship. So there are several location in both US and UK but none in \n",
    "# CN. The CN entry still is there with NONE values because it is on the left\n",
    "# side of the join\n",
    "\n",
    "query = \"\"\"SELECT c.country_name, c.country_id, l.street_address, l.city\n",
    "        FROM countries c LEFT JOIN locations l ON l.country_id = c.country_id\n",
    "        WHERE c.country_id IN('US', 'UK', 'CN')\"\"\"\n",
    "for row in c.execute(query).fetchmany(10):\n",
    "    print(row)"
   ]
  },
  {
   "cell_type": "markdown",
   "metadata": {},
   "source": [
    "### SELF JOIN"
   ]
  },
  {
   "cell_type": "markdown",
   "metadata": {},
   "source": [
    "Sometime you need to match row from the same table. In this next example we are \n",
    "looking to return a list of all employees with there manager name. But we don't have a table with\n",
    "the managers name connected to the manager_id. The manager's id is just their \n",
    "employee id. So what we will do is a self join"
   ]
  },
  {
   "cell_type": "code",
   "execution_count": 34,
   "metadata": {},
   "outputs": [
    {
     "name": "stdout",
     "output_type": "stream",
     "text": [
      "('Bruce Ernst', 'Alexander Hunold')\n",
      "('David Austin', 'Alexander Hunold')\n",
      "('Valli Pataballa', 'Alexander Hunold')\n",
      "('Diana Lorentz', 'Alexander Hunold')\n",
      "('Alexander Khoo', 'Den Raphaely')\n",
      "('Shelli Baida', 'Den Raphaely')\n",
      "('Sigal Tobias', 'Den Raphaely')\n",
      "('Guy Himuro', 'Den Raphaely')\n",
      "('Karen Colmenares', 'Den Raphaely')\n",
      "('Alexander Hunold', 'Lex De Haan')\n"
     ]
    }
   ],
   "source": [
    "query = \"\"\"SELECT e.first_name || ' ' || e.last_name AS employee,\n",
    "                  m.first_name || ' ' || m.last_name AS manager\n",
    "           FROM employees e INNER JOIN employees m \n",
    "           ON m.employee_id = e.manager_id\n",
    "           ORDER BY manager\"\"\"\n",
    "#ok this creates everyone as a manager then checks to see if that \"manager\" \n",
    "#employee is a match to the employee's manager's id. Then it returns the \n",
    "#two columns employee and manager\n",
    "for row in c.execute(query).fetchmany(10):\n",
    "    print(row)\n"
   ]
  },
  {
   "cell_type": "markdown",
   "metadata": {},
   "source": [
    "This result only returns the employees that have managers if you wanted all employees\n",
    "whether or not they have a manager then do a LEFT JOIN "
   ]
  },
  {
   "cell_type": "markdown",
   "metadata": {},
   "source": [
    "### FULL OUTER JOIN (Not supported with sqlite3)"
   ]
  },
  {
   "cell_type": "markdown",
   "metadata": {},
   "source": [
    "The full outer join includes all rows from the joined tables where or not the table has the matching row. If the rows in the joined tables do not match, the result set of the full outer join contains NULL values for every column of the table that lacks a matching row"
   ]
  },
  {
   "cell_type": "code",
   "execution_count": 24,
   "metadata": {},
   "outputs": [],
   "source": [
    "# #creating a new table for simplification\n",
    "# table1 = \"\"\"CREATE TABLE employee1 (employee_id INTEGER PRIMARY KEY,\n",
    "#     employee_name VARCHAR (255) NOT NULL,\n",
    "#     department_id INTEGER)\"\"\"\n",
    "# table2 =\"\"\"CREATE TABLE department1 (department_id INTEGER PRIMARY KEY,\n",
    "#     department_name VARCHAR (255) NOT NULL\n",
    "# )\"\"\"\n",
    "# c.execute(table1)\n",
    "# c.execute(table2)\n",
    "# conn.commit()\n"
   ]
  },
  {
   "cell_type": "code",
   "execution_count": 25,
   "metadata": {},
   "outputs": [],
   "source": [
    "# input1= \"\"\"INSERT INTO department1 (department_id, department_name) \n",
    "#             VALUES(?,?)\"\"\"\n",
    "# dep = [\n",
    "#     (1, 'loading'),\n",
    "#     (2, 'shipping'),\n",
    "#     (3, 'recieving')\n",
    "#     ]\n",
    "# input2= \"\"\"INSERT INTO employee1(employee_id, employee_name, department_id)\n",
    "#             VALUES(?,?,?)\"\"\"\n",
    "# emp =[\n",
    "#     (1, 'Peter Pan', 1), \n",
    "#     (2, 'Spider Man', 1),\n",
    "#     (3, 'Super Man', 2), \n",
    "#     (4 , \"Wonder Women\", \"NULL\")\n",
    "# ]\n",
    "# c.executemany(input1, dep)\n",
    "# c.executemany(input2, emp)\n",
    "# conn.commit()\n"
   ]
  },
  {
   "cell_type": "code",
   "execution_count": 4,
   "metadata": {},
   "outputs": [
    {
     "name": "stdout",
     "output_type": "stream",
     "text": [
      "[(1, 'loading'), (2, 'shipping'), (3, 'recieving')]\n"
     ]
    }
   ],
   "source": [
    "query =\"SELECT * FROM department1\"\n",
    "print(c.execute(query).fetchall())"
   ]
  },
  {
   "cell_type": "raw",
   "metadata": {},
   "source": [
    "query = \"\"\"SELECT department_name, employee_name \n",
    "            FROM employee1 OUTER JOIN department1 \n",
    "            ON department_id = employee_id\"\"\"\n",
    "for row in c.execute(query).fetchall():\n",
    "    print(row)"
   ]
  },
  {
   "cell_type": "markdown",
   "metadata": {},
   "source": [
    "<table>\n",
    "    <tr>\n",
    "        <th>department_name<th/>\n",
    "        <th>employee_name</th>\n",
    "    </tr>\n",
    "    <tr>\n",
    "        <th>loading<th/>\n",
    "        <th>Peter Pan</th>\n",
    "    </tr>\n",
    "    <tr>\n",
    "        <th>loading<th/>\n",
    "        <th>Spider Man</th>\n",
    "    </tr>\n",
    "    <tr>\n",
    "        <th>shipping<th/>\n",
    "        <th>Super Man</th>\n",
    "    </tr>\n",
    "    <tr>\n",
    "        <th>NULL<th/>\n",
    "        <th>Wonder Women</th>\n",
    "    </tr>\n",
    "    <tr>\n",
    "        <th>receiving<th/>\n",
    "        <th>NULL</th>\n",
    "    </tr>\n",
    "</table>\n",
    " "
   ]
  },
  {
   "cell_type": "markdown",
   "metadata": {},
   "source": [
    "### SQL CROSS JOIN"
   ]
  },
  {
   "cell_type": "markdown",
   "metadata": {},
   "source": [
    "Cartesian product of two or more tables (Column of table) A $\\times$ (Row of table B) and returns a set of all ordered pairs."
   ]
  },
  {
   "cell_type": "code",
   "execution_count": 6,
   "metadata": {},
   "outputs": [
    {
     "name": "stdout",
     "output_type": "stream",
     "text": [
      "('loading', 'Peter Pan')\n",
      "('loading', 'Spider Man')\n",
      "('loading', 'Super Man')\n",
      "('loading', 'Wonder Women')\n",
      "('shipping', 'Peter Pan')\n",
      "('shipping', 'Spider Man')\n",
      "('shipping', 'Super Man')\n",
      "('shipping', 'Wonder Women')\n",
      "('recieving', 'Peter Pan')\n",
      "('recieving', 'Spider Man')\n",
      "('recieving', 'Super Man')\n",
      "('recieving', 'Wonder Women')\n"
     ]
    }
   ],
   "source": [
    "query = \"SELECT department_name, employee_name FROM department1 CROSS JOIN employee1\"\n",
    "for row in c.execute(query).fetchall():\n",
    "    print(row)\n",
    " "
   ]
  },
  {
   "cell_type": "markdown",
   "metadata": {},
   "source": [
    "### SQL GROUP BY"
   ]
  },
  {
   "cell_type": "markdown",
   "metadata": {},
   "source": [
    "The GROUP BY clause is an optional clause of the SELECT statement that combines rows into groups based on matching values in specified columns. One row is returned for each group. You often use the GROUP BY in conjunction with an aggregate function such as MIN, MAX, AVG, SUM, or COUNT to calculate a measure that provides the information for each group"
   ]
  },
  {
   "cell_type": "raw",
   "metadata": {},
   "source": [
    "SELECT\n",
    "    column1,\n",
    "    column2,\n",
    "    AGGREGATE_FUNCTION (column3)# name of new column\n",
    "FROM\n",
    "    table1\n",
    "GROUP BY\n",
    "    column1,\n",
    "    column2;"
   ]
  },
  {
   "cell_type": "code",
   "execution_count": 20,
   "metadata": {},
   "outputs": [
    {
     "name": "stdout",
     "output_type": "stream",
     "text": [
      "(department_id, department_name, rolecount)\n",
      "(5, 'Shipping', 7)\n",
      "(3, 'Purchasing', 6)\n",
      "(8, 'Sales', 6)\n",
      "(10, 'Finance', 6)\n",
      "(6, 'IT', 5)\n",
      "(9, 'Executive', 3)\n",
      "(2, 'Marketing', 2)\n",
      "(11, 'Accounting', 2)\n",
      "(1, 'Administration', 1)\n",
      "(4, 'Human Resources', 1)\n",
      "(7, 'Public Relations', 1)\n"
     ]
    }
   ],
   "source": [
    "query = '''SELECT e.department_id, department_name,\n",
    "    COUNT(employee_id) headcount\n",
    "    FROM employees e\n",
    "    INNER JOIN departments d ON d.department_id = e.department_id\n",
    "    GROUP BY e.department_id\n",
    "    ORDER BY headcount DESC\n",
    "        '''\n",
    "print(r'(department_id, department_name, rolecount)')\n",
    "for row in c.execute(query).fetchall():\n",
    "    print(row)"
   ]
  },
  {
   "cell_type": "markdown",
   "metadata": {},
   "source": [
    "### GROUP BY with HAVING"
   ]
  },
  {
   "cell_type": "code",
   "execution_count": 23,
   "metadata": {},
   "outputs": [
    {
     "name": "stdout",
     "output_type": "stream",
     "text": [
      "(department_id, department_name, rolecount)\n",
      "(3, 'Purchasing', 6)\n",
      "(8, 'Sales', 6)\n",
      "(10, 'Finance', 6)\n",
      "(5, 'Shipping', 7)\n"
     ]
    }
   ],
   "source": [
    "query= \"\"\"SELECT  e.department_id, department_name,\n",
    "        COUNT(employee_id) rolecount\n",
    "        FROM employees e INNER JOIN departments d ON d.department_id = e.department_id\n",
    "        GROUP BY e.department_id\n",
    "        HAVING rolecount > 5\n",
    "        ORDER BY rolecount \"\"\"\n",
    "print(r'(department_id, department_name, rolecount)')\n",
    "for row in c.execute(query).fetchall():\n",
    "      print(row)\n"
   ]
  },
  {
   "cell_type": "markdown",
   "metadata": {},
   "source": [
    "### SQL UNION operator"
   ]
  },
  {
   "cell_type": "markdown",
   "metadata": {},
   "source": [
    "To use the UNION operator, you write the dividual SELECT statements and join them by the keyword UNION.  The columns returned by the SELECT statements must have the same or convertible data type, size, and be the same order"
   ]
  },
  {
   "cell_type": "raw",
   "metadata": {},
   "source": [
    "SELECT \n",
    "    column1, column2\n",
    "FROM\n",
    "    table1 \n",
    "UNION [ALL]\n",
    "SELECT \n",
    "    column3, column4\n",
    "FROM\n",
    "    table2"
   ]
  },
  {
   "cell_type": "markdown",
   "metadata": {},
   "source": [
    "The database system processes the query by executing two SELECT statements first. Then, it combines two individual result sets into one and eliminates duplicate rows. To eliminate the duplicate rows, the database system sorts the combined result set by every column and scans it for the matching rows located next to one another. UNION combines rows of the table where JOINs' combine columns."
   ]
  },
  {
   "cell_type": "markdown",
   "metadata": {},
   "source": [
    "EXAMPLE This example is not a good way to find a list of parents and children. One it doesn't take \n",
    "into account that last name are not always unique amoung your employees, so you could have two employees with the same last name and both or only one has children"
   ]
  },
  {
   "cell_type": "code",
   "execution_count": 29,
   "metadata": {},
   "outputs": [
    {
     "name": "stdout",
     "output_type": "stream",
     "text": [
      "('David', 'Austin')\n",
      "('Fred', 'Austin')\n",
      "('Hermann', 'Baer')\n",
      "('Kirsten', 'Baer')\n",
      "('Sandra', 'Baida')\n",
      "('Shelli', 'Baida')\n",
      "('Sarah', 'Bell')\n",
      "('John', 'Chen')\n",
      "('Matthew', 'Chen')\n",
      "('Karen', 'Colmenares')\n"
     ]
    }
   ],
   "source": [
    "query = \"\"\"SELECT first_name, last_name FROM employees \n",
    "           UNION \n",
    "           SELECT first_name, last_name FROM dependents\n",
    "           ORDER BY last_name\"\"\"\n",
    "for row in c.execute(query).fetchmany(10):\n",
    "    print(row)"
   ]
  },
  {
   "cell_type": "markdown",
   "metadata": {},
   "source": [
    "### SQL INTERSECT"
   ]
  },
  {
   "cell_type": "markdown",
   "metadata": {},
   "source": [
    "This operater returns rows that both contain the same information. "
   ]
  },
  {
   "cell_type": "raw",
   "metadata": {},
   "source": [
    "SELECT\n",
    "    id\n",
    "FROM\n",
    "    a \n",
    "INTERSECT\n",
    "SELECT\n",
    "    id\n",
    "FROM\n",
    "    b;"
   ]
  },
  {
   "cell_type": "code",
   "execution_count": 32,
   "metadata": {},
   "outputs": [
    {
     "name": "stdout",
     "output_type": "stream",
     "text": [
      "('Gietz',)\n",
      "('Higgins',)\n"
     ]
    }
   ],
   "source": [
    "query = '''SELECT last_name\n",
    "           FROM employees  WHERE department_id IN(11)\n",
    "           INTERSECT\n",
    "           SELECT last_name\n",
    "           FROM dependents'''\n",
    "for row in c.execute(query).fetchall():\n",
    "    print(row)"
   ]
  },
  {
   "cell_type": "markdown",
   "metadata": {},
   "source": [
    "### MINUS (not supported with sqlite3)"
   ]
  },
  {
   "cell_type": "markdown",
   "metadata": {},
   "source": [
    "This operator allows you to subtract one query result from another."
   ]
  },
  {
   "cell_type": "raw",
   "metadata": {},
   "source": [
    "SELECT\n",
    "    id\n",
    "FROM\n",
    "    A \n",
    "MINUS \n",
    "SELECT\n",
    "    id\n",
    "FROM\n",
    "    B"
   ]
  },
  {
   "cell_type": "code",
   "execution_count": null,
   "metadata": {},
   "outputs": [],
   "source": []
  },
  {
   "cell_type": "code",
   "execution_count": null,
   "metadata": {},
   "outputs": [],
   "source": []
  }
 ],
 "metadata": {
  "kernelspec": {
   "display_name": "Python 3",
   "language": "python",
   "name": "python3"
  },
  "language_info": {
   "codemirror_mode": {
    "name": "ipython",
    "version": 3
   },
   "file_extension": ".py",
   "mimetype": "text/x-python",
   "name": "python",
   "nbconvert_exporter": "python",
   "pygments_lexer": "ipython3",
   "version": "3.7.0"
  }
 },
 "nbformat": 4,
 "nbformat_minor": 2
}
